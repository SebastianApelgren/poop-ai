{
 "cells": [
  {
   "cell_type": "code",
   "execution_count": 2,
   "id": "c279b61e",
   "metadata": {},
   "outputs": [
    {
     "name": "stderr",
     "output_type": "stream",
     "text": [
      "/Users/sebastianapelgren/code/poop-ai/.venv/lib/python3.11/site-packages/tqdm/auto.py:21: TqdmWarning: IProgress not found. Please update jupyter and ipywidgets. See https://ipywidgets.readthedocs.io/en/stable/user_install.html\n",
      "  from .autonotebook import tqdm as notebook_tqdm\n"
     ]
    }
   ],
   "source": [
    "import torch\n",
    "from transformers import CLIPProcessor, CLIPModel\n",
    "from PIL import Image\n",
    "import os\n",
    "import matplotlib.pyplot as plt\n",
    "from pathlib import Path\n",
    "from sklearn.metrics import classification_report\n",
    "import numpy as np\n",
    "\n",
    "from tqdm import tqdm\n",
    "from sklearn.metrics import confusion_matrix, ConfusionMatrixDisplay\n",
    "import matplotlib.pyplot as plt\n",
    "import numpy as np"
   ]
  },
  {
   "cell_type": "markdown",
   "id": "7e3071eb",
   "metadata": {},
   "source": [
    "# ─── SETUP ────────────"
   ]
  },
  {
   "cell_type": "code",
   "execution_count": 3,
   "id": "1b347e16",
   "metadata": {},
   "outputs": [
    {
     "name": "stdout",
     "output_type": "stream",
     "text": [
      "Using device: mps\n"
     ]
    },
    {
     "name": "stderr",
     "output_type": "stream",
     "text": [
      "Using a slow image processor as `use_fast` is unset and a slow processor was saved with this model. `use_fast=True` will be the default behavior in v4.52, even if the model was saved with a slow processor. This will result in minor differences in outputs. You'll still be able to use a slow processor with `use_fast=False`.\n"
     ]
    }
   ],
   "source": [
    "if torch.cuda.is_available():\n",
    "    DEVICE = \"cuda\"\n",
    "elif torch.backends.mps.is_available():\n",
    "    DEVICE = \"mps\"\n",
    "else:\n",
    "    DEVICE = \"cpu\"\n",
    "\n",
    "print(f\"Using device: {DEVICE}\")\n",
    "\n",
    "MODEL_NAME = \"openai/clip-vit-base-patch32\"\n",
    "\n",
    "model = CLIPModel.from_pretrained(MODEL_NAME).to(DEVICE)\n",
    "processor = CLIPProcessor.from_pretrained(MODEL_NAME)"
   ]
  },
  {
   "cell_type": "markdown",
   "id": "59f80560",
   "metadata": {},
   "source": [
    "# ─── LOAD IMAGES ───────"
   ]
  },
  {
   "cell_type": "code",
   "execution_count": 4,
   "id": "69b03e30",
   "metadata": {},
   "outputs": [],
   "source": [
    "def load_images_from_folder(folder):\n",
    "    image_paths, labels = [], []\n",
    "    for label_idx, class_name in enumerate(sorted(os.listdir(folder))):\n",
    "        \n",
    "        class_dir = Path(folder) / class_name\n",
    "\n",
    "        print(f\"Loading images from: {class_dir}\")\n",
    "        if not class_dir.is_dir():\n",
    "            continue\n",
    "\n",
    "        counter = 0\n",
    "        for img_file in list(class_dir.glob(\"*.jpg\")) + list(class_dir.glob(\"*.png\")):\n",
    "            image_paths.append(str(img_file))\n",
    "            labels.append(label_idx)\n",
    "            counter += 1\n",
    "        print(f\"Loaded {counter} images from {class_name}\")\n",
    "    return image_paths, labels"
   ]
  },
  {
   "cell_type": "markdown",
   "id": "01a1f490",
   "metadata": {},
   "source": [
    "# ─── INFERENCE ──────────"
   ]
  },
  {
   "cell_type": "code",
   "execution_count": 5,
   "id": "faabb9b5",
   "metadata": {},
   "outputs": [],
   "source": [
    "def classify_clip(image_paths):\n",
    "    predictions = []\n",
    "    with torch.no_grad():\n",
    "        for path in tqdm(image_paths, desc=\"Classifying images\"):\n",
    "            image = Image.open(path).convert(\"RGB\")\n",
    "            inputs = processor(text=CLASS_NAMES, images=image, return_tensors=\"pt\", padding=True).to(DEVICE)\n",
    "            outputs = model(**inputs)\n",
    "            logits_per_image = outputs.logits_per_image  # image-text similarity\n",
    "            probs = logits_per_image.softmax(dim=1)\n",
    "            pred = probs.argmax().item()\n",
    "            predictions.append(pred)\n",
    "    return predictions"
   ]
  },
  {
   "cell_type": "markdown",
   "id": "8062864a",
   "metadata": {},
   "source": [
    "# ─── MAIN EXECUTION ────"
   ]
  },
  {
   "cell_type": "code",
   "execution_count": 6,
   "id": "17c8ed8e",
   "metadata": {},
   "outputs": [],
   "source": [
    "!find ../datasets/data-blood -name \".DS_Store\" -type f -delete"
   ]
  },
  {
   "cell_type": "code",
   "execution_count": 12,
   "id": "b1ab1c94",
   "metadata": {},
   "outputs": [
    {
     "name": "stdout",
     "output_type": "stream",
     "text": [
      "We have 2 classes.\n",
      "0: red color stool with visible blood\n",
      "1: stool\n"
     ]
    }
   ],
   "source": [
    "CLASS_NAMES = [\n",
    "   \"red color stool with visible blood\",\n",
    "    \"stool\",\n",
    "]\n",
    "\n",
    "\n",
    "\n",
    "#CLASS_NAMES = [f\"Bristol Stool Chart Type {c}\" for c in [1,2,3,4,5,6,7]]\n",
    "\n",
    "print(f\"We have {len(CLASS_NAMES)} classes.\")\n",
    "for i, name in enumerate(CLASS_NAMES):\n",
    "    print(f\"{i}: {name}\")\n"
   ]
  },
  {
   "cell_type": "code",
   "execution_count": 23,
   "id": "4049d8a8",
   "metadata": {},
   "outputs": [
    {
     "data": {
      "image/png": "[encoded data removed]",
      "text/plain": [
       "<Figure size 1000x500 with 1 Axes>"
      ]
     },
     "metadata": {},
     "output_type": "display_data"
    }
   ],
   "source": [
    "a = 18\n",
    "b = 139\n",
    "\n",
    "#plot a diagram of the classes\n",
    "plt.figure(figsize=(10, 5))\n",
    "plt.bar(2, [a, b], tick_label=['blood', 'no-blood'])\n",
    "plt.xlabel(\"Classes\")\n",
    "plt.ylabel(\"Number of images\")\n",
    "plt.title(\"Number of images per class\")\n",
    "plt.xticks(rotation=45)\n",
    "plt.tight_layout()"
   ]
  },
  {
   "cell_type": "code",
   "execution_count": 13,
   "id": "b063a40d",
   "metadata": {},
   "outputs": [
    {
     "name": "stdout",
     "output_type": "stream",
     "text": [
      "Loading images from: ../datasets/data-blood/blood\n",
      "Loaded 18 images from blood\n",
      "Loading images from: ../datasets/data-blood/no-blood\n",
      "Loaded 139 images from no-blood\n"
     ]
    },
    {
     "name": "stderr",
     "output_type": "stream",
     "text": [
      "Classifying images: 100%|██████████| 157/157 [00:06<00:00, 22.90it/s]\n"
     ]
    }
   ],
   "source": [
    "TEST_DIR = \"../datasets/data-blood\"  # <-- CHANGE TO YOUR TEST IMAGE DIR\n",
    "image_paths, true_labels = load_images_from_folder(TEST_DIR)\n",
    "preds = classify_clip(image_paths)"
   ]
  },
  {
   "cell_type": "markdown",
   "id": "a28c6428",
   "metadata": {},
   "source": [
    "# ─── EVALUATION ─────"
   ]
  },
  {
   "cell_type": "code",
   "execution_count": 14,
   "id": "b409b0b8",
   "metadata": {},
   "outputs": [
    {
     "name": "stdout",
     "output_type": "stream",
     "text": [
      "\n",
      "Classification Report:\n",
      "              precision    recall  f1-score   support\n",
      "\n",
      "       blood       0.39      0.89      0.54        18\n",
      "    no-blood       0.98      0.82      0.89       139\n",
      "\n",
      "    accuracy                           0.83       157\n",
      "   macro avg       0.69      0.85      0.72       157\n",
      "weighted avg       0.91      0.83      0.85       157\n",
      "\n"
     ]
    }
   ],
   "source": [
    "print(\"\\nClassification Report:\")\n",
    "print(classification_report(true_labels, preds, target_names=[i for i in ['blood', 'no-blood']]))  # Adjust target_names as needed"
   ]
  },
  {
   "cell_type": "markdown",
   "id": "6d73f14f",
   "metadata": {},
   "source": [
    "# ─── Error analysis ────"
   ]
  },
  {
   "cell_type": "code",
   "execution_count": 17,
   "id": "5c83f0d9",
   "metadata": {},
   "outputs": [
    {
     "data": {
      "image/png": "[encoded data removed]",
      "text/plain": [
       "<Figure size 800x600 with 2 Axes>"
      ]
     },
     "metadata": {},
     "output_type": "display_data"
    }
   ],
   "source": [
    "cm = confusion_matrix(true_labels, preds, labels=list(range(len(CLASS_NAMES))))\n",
    "\n",
    "# Display it nicely\n",
    "disp = ConfusionMatrixDisplay(confusion_matrix=cm, display_labels=['blood', 'no-blood'])\n",
    "fig, ax = plt.subplots(figsize=(8, 6))\n",
    "disp.plot(ax=ax, cmap='Blues', colorbar=True, xticks_rotation=45)\n",
    "plt.title(\"Confusion Matrix\")\n",
    "plt.tight_layout()\n",
    "plt.show()"
   ]
  },
  {
   "cell_type": "code",
   "execution_count": 350,
   "id": "d7994a8b",
   "metadata": {},
   "outputs": [
    {
     "name": "stdout",
     "output_type": "stream",
     "text": [
      "[[ 19   3]\n",
      " [ 27 114]]\n"
     ]
    }
   ],
   "source": [
    "print(cm)"
   ]
  },
  {
   "cell_type": "code",
   "execution_count": 22,
   "id": "42717b51",
   "metadata": {},
   "outputs": [],
   "source": [
    "def show_misclassified(image_paths, preds, true_labels, max_display=6):\n",
    "\n",
    "    classes = ['blood', 'no-blood']\n",
    "\n",
    "    wrong = [(p, t, img) for p, t, img in zip(preds, true_labels, image_paths) if p != t]\n",
    "    #print(wrong)\n",
    "\n",
    "    if not wrong:\n",
    "        print(\"No misclassified samples.\")\n",
    "        return\n",
    "    for i, (pred, true, img_path) in enumerate(wrong[:max_display]):\n",
    "        img = Image.open(img_path).convert(\"RGB\")\n",
    "        plt.figure()\n",
    "        plt.imshow(img)\n",
    "        #print(i, pred)\n",
    "        plt.title(f\"True: {classes[true]}, Pred: {classes[pred]}\")\n",
    "        plt.axis(\"off\")\n",
    "    plt.show()\n",
    "# show_misclassified(image_paths, preds, true_labels)"
   ]
  },
  {
   "cell_type": "markdown",
   "id": "789e56ff",
   "metadata": {},
   "source": [
    "# Data Distribution"
   ]
  },
  {
   "cell_type": "code",
   "execution_count": 21,
   "id": "6f0d437b",
   "metadata": {},
   "outputs": [
    {
     "data": {
      "image/png": "[encoded data removed]",
      "text/plain": [
       "<Figure size 1000x500 with 1 Axes>"
      ]
     },
     "metadata": {},
     "output_type": "display_data"
    }
   ],
   "source": [
    "a = 18\n",
    "b = 139\n",
    "\n",
    "#plot a diagram of the classes\n",
    "plt.figure(figsize=(10, 5))\n",
    "plt.bar(2, [a, b], tick_label=['blood', 'no-blood'])\n",
    "plt.xlabel(\"Classes\")\n",
    "plt.ylabel(\"Number of images\")\n",
    "plt.title(\"Number of images per class\")\n",
    "plt.xticks(rotation=45)\n",
    "plt.tight_layout()"
   ]
  },
  {
   "cell_type": "code",
   "execution_count": null,
   "id": "ee612604",
   "metadata": {},
   "outputs": [],
   "source": []
  }
 ],
 "metadata": {
  "kernelspec": {
   "display_name": ".venv",
   "language": "python",
   "name": "python3"
  },
  "language_info": {
   "codemirror_mode": {
    "name": "ipython",
    "version": 3
   },
   "file_extension": ".py",
   "mimetype": "text/x-python",
   "name": "python",
   "nbconvert_exporter": "python",
   "pygments_lexer": "ipython3",
   "version": "3.11.11"
  }
 },
 "nbformat": 4,
 "nbformat_minor": 5
}
