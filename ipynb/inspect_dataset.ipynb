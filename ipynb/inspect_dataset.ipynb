{
 "cells": [
  {
   "cell_type": "markdown",
   "id": "e0fd93c2",
   "metadata": {},
   "source": [
    "# Inspecting the Stool Image Dataset\n",
    "\n",
    "This notebook counts the number of data points (images) in each class and visualizes the distribution."
   ]
  },
  {
   "cell_type": "code",
   "execution_count": 1,
   "id": "f6e657da",
   "metadata": {},
   "outputs": [],
   "source": [
    "import os\n",
    "import pandas as pd\n",
    "import matplotlib.pyplot as plt"
   ]
  },
  {
   "cell_type": "code",
   "execution_count": 3,
   "id": "e978c3ac",
   "metadata": {},
   "outputs": [],
   "source": [
    "# Path to the unzipped dataset\n",
    "DATA_DIR = \"../datasets/data-BSS\"\n",
    "\n",
    "# List class folders\n",
    "class_folders = sorted([d for d in os.listdir(DATA_DIR) if os.path.isdir(os.path.join(DATA_DIR, d))])"
   ]
  },
  {
   "cell_type": "code",
   "execution_count": 4,
   "id": "1df0aea6",
   "metadata": {},
   "outputs": [],
   "source": [
    "def remove_ds_store_files(root_dir):\n",
    "    for subdir, _, files in os.walk(root_dir):\n",
    "        for f in files:\n",
    "            if f == '.DS_Store':\n",
    "                full_path = os.path.join(subdir, f)\n",
    "                os.remove(full_path)\n",
    "                print(f\"Removed: {full_path}\")\n",
    "\n",
    "# Run this once before DataLoader is created\n",
    "remove_ds_store_files('data')"
   ]
  },
  {
   "cell_type": "code",
   "execution_count": 5,
   "id": "2cd0abf1",
   "metadata": {},
   "outputs": [],
   "source": [
    "# Count images per class\n",
    "class_counts = {}\n",
    "for class_name in class_folders:\n",
    "    class_path = os.path.join(DATA_DIR, class_name)\n",
    "    # Count only files (ignore hidden/system files)\n",
    "    files = [f for f in os.listdir(class_path) if os.path.isfile(os.path.join(class_path, f))]\n",
    "    class_counts[class_name] = len(files)"
   ]
  },
  {
   "cell_type": "code",
   "execution_count": 6,
   "id": "afb8f2cf",
   "metadata": {},
   "outputs": [
    {
     "name": "stdout",
     "output_type": "stream",
     "text": [
      "Total number of datapoints: 971\n",
      "\n",
      "Number of images per class:\n"
     ]
    },
    {
     "data": {
      "text/html": [
       "<div>\n",
       "<style scoped>\n",
       "    .dataframe tbody tr th:only-of-type {\n",
       "        vertical-align: middle;\n",
       "    }\n",
       "\n",
       "    .dataframe tbody tr th {\n",
       "        vertical-align: top;\n",
       "    }\n",
       "\n",
       "    .dataframe thead th {\n",
       "        text-align: right;\n",
       "    }\n",
       "</style>\n",
       "<table border=\"1\" class=\"dataframe\">\n",
       "  <thead>\n",
       "    <tr style=\"text-align: right;\">\n",
       "      <th></th>\n",
       "      <th>Class</th>\n",
       "      <th>Count</th>\n",
       "    </tr>\n",
       "  </thead>\n",
       "  <tbody>\n",
       "    <tr>\n",
       "      <th>0</th>\n",
       "      <td>type-1</td>\n",
       "      <td>65</td>\n",
       "    </tr>\n",
       "    <tr>\n",
       "      <th>1</th>\n",
       "      <td>type-2</td>\n",
       "      <td>92</td>\n",
       "    </tr>\n",
       "    <tr>\n",
       "      <th>2</th>\n",
       "      <td>type-3</td>\n",
       "      <td>323</td>\n",
       "    </tr>\n",
       "    <tr>\n",
       "      <th>3</th>\n",
       "      <td>type-4</td>\n",
       "      <td>326</td>\n",
       "    </tr>\n",
       "    <tr>\n",
       "      <th>4</th>\n",
       "      <td>type-5</td>\n",
       "      <td>39</td>\n",
       "    </tr>\n",
       "    <tr>\n",
       "      <th>5</th>\n",
       "      <td>type-6</td>\n",
       "      <td>42</td>\n",
       "    </tr>\n",
       "    <tr>\n",
       "      <th>6</th>\n",
       "      <td>type-7</td>\n",
       "      <td>84</td>\n",
       "    </tr>\n",
       "  </tbody>\n",
       "</table>\n",
       "</div>"
      ],
      "text/plain": [
       "    Class  Count\n",
       "0  type-1     65\n",
       "1  type-2     92\n",
       "2  type-3    323\n",
       "3  type-4    326\n",
       "4  type-5     39\n",
       "5  type-6     42\n",
       "6  type-7     84"
      ]
     },
     "execution_count": 6,
     "metadata": {},
     "output_type": "execute_result"
    }
   ],
   "source": [
    "# Create a DataFrame for display\n",
    "df_counts = pd.DataFrame.from_dict(class_counts, orient='index', columns=['Count'])\n",
    "df_counts.index.name = \"Class\"\n",
    "df_counts = df_counts.reset_index()\n",
    "\n",
    "# Display the counts\n",
    "print(\"Total number of datapoints:\", df_counts['Count'].sum())\n",
    "print()\n",
    "print(\"Number of images per class:\")\n",
    "df_counts"
   ]
  },
  {
   "cell_type": "code",
   "execution_count": 7,
   "id": "bbe543ba",
   "metadata": {},
   "outputs": [
    {
     "data": {
      "image/png": "[encoded data removed]",
      "text/plain": [
       "<Figure size 800x500 with 1 Axes>"
      ]
     },
     "metadata": {},
     "output_type": "display_data"
    }
   ],
   "source": [
    "# Plot the distribution\n",
    "plt.figure(figsize=(8, 5))\n",
    "plt.bar(df_counts['Class'], df_counts['Count'], color='skyblue')\n",
    "plt.xlabel(\"Bristol Stool Type\")\n",
    "plt.ylabel(\"Number of Images\")\n",
    "plt.title(\"Dataset Distribution by Class\")\n",
    "plt.xticks(rotation=45)\n",
    "plt.tight_layout()\n",
    "plt.show()"
   ]
  },
  {
   "cell_type": "code",
   "execution_count": null,
   "id": "e0a35329",
   "metadata": {},
   "outputs": [],
   "source": []
  }
 ],
 "metadata": {
  "kernelspec": {
   "display_name": ".venv",
   "language": "python",
   "name": "python3"
  },
  "language_info": {
   "codemirror_mode": {
    "name": "ipython",
    "version": 3
   },
   "file_extension": ".py",
   "mimetype": "text/x-python",
   "name": "python",
   "nbconvert_exporter": "python",
   "pygments_lexer": "ipython3",
   "version": "3.11.11"
  }
 },
 "nbformat": 4,
 "nbformat_minor": 5
}
