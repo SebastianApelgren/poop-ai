{
 "cells": [
  {
   "cell_type": "markdown",
   "id": "e0fd93c2",
   "metadata": {},
   "source": [
    "# Inspecting the Stool Image Dataset\n",
    "\n",
    "This notebook counts the number of data points (images) in each class and visualizes the distribution."
   ]
  },
  {
   "cell_type": "code",
   "execution_count": null,
   "id": "2cd0abf1",
   "metadata": {},
   "outputs": [],
   "source": [
    "import os\n",
    "import pandas as pd\n",
    "import matplotlib.pyplot as plt\n",
    "\n",
    "# Path to the unzipped dataset\n",
    "DATA_DIR = \"path_to_your_unzipped_dataset/data\"  # <-- update this path\n",
    "\n",
    "# List class folders\n",
    "class_folders = sorted([d for d in os.listdir(DATA_DIR) if os.path.isdir(os.path.join(DATA_DIR, d))])\n",
    "\n",
    "# Count images per class\n",
    "class_counts = {}\n",
    "for class_name in class_folders:\n",
    "    class_path = os.path.join(DATA_DIR, class_name)\n",
    "    # Count only files (ignore hidden/system files)\n",
    "    files = [f for f in os.listdir(class_path) if os.path.isfile(os.path.join(class_path, f))]\n",
    "    class_counts[class_name] = len(files)\n",
    "\n",
    "# Create a DataFrame for display\n",
    "df_counts = pd.DataFrame.from_dict(class_counts, orient='index', columns=['Count'])\n",
    "df_counts.index.name = \"Class\"\n",
    "df_counts = df_counts.reset_index()\n",
    "\n",
    "# Display the counts\n",
    "print(\"Number of images per class:\")\n",
    "display(df_counts)\n",
    "\n",
    "# Plot the distribution\n",
    "plt.figure(figsize=(8, 5))\n",
    "plt.bar(df_counts['Class'], df_counts['Count'], color='skyblue')\n",
    "plt.xlabel(\"Bristol Stool Type\")\n",
    "plt.ylabel(\"Number of Images\")\n",
    "plt.title(\"Dataset Distribution by Class\")\n",
    "plt.xticks(rotation=45)\n",
    "plt.tight_layout()\n",
    "plt.show()"
   ]
  }
 ],
 "metadata": {},
 "nbformat": 4,
 "nbformat_minor": 5
}
